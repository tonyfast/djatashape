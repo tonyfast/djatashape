{
 "cells": [
  {
   "cell_type": "code",
   "execution_count": 1,
   "metadata": {
    "collapsed": true
   },
   "outputs": [],
   "source": [
    "import jinja2, IPython\n",
    "from coffeetools import coffee\n",
    "env = jinja2.Environment( variable_start_string='#{', variable_end_string='}')"
   ]
  },
  {
   "cell_type": "code",
   "execution_count": 2,
   "metadata": {
    "collapsed": false
   },
   "outputs": [
    {
     "name": "stdout",
     "output_type": "stream",
     "text": [
      "Overwriting _config.yml\n"
     ]
    }
   ],
   "source": [
    "%%file _config.yml\n",
    "baseurl: /djatashape"
   ]
  },
  {
   "cell_type": "code",
   "execution_count": 7,
   "metadata": {
    "collapsed": true
   },
   "outputs": [],
   "source": [
    "render = lambda s: jinja2.Template(s).render(**globals())"
   ]
  },
  {
   "cell_type": "code",
   "execution_count": 8,
   "metadata": {
    "collapsed": true
   },
   "outputs": [],
   "source": [
    "js_files = ['/bower_components/pegjs/peg-0.9.0.min.js','/bower_components/codemirror/lib/codemirror.js','/bower_components/d3/d3.min.js']\n",
    "[js_files.append('/bower_components/codemirror/'+v) for v in ['addon/fold/foldcode.js', 'addon/fold/foldgutter.js']]\n",
    "css_files = ['/bower_components/bootstrap/dist/css/bootstrap.min.css','/bower_components/bootstrap/dist/css/bootstrap-theme.min.css','/bower_components/codemirror/lib/codemirror.css']"
   ]
  },
  {
   "cell_type": "code",
   "execution_count": 9,
   "metadata": {
    "collapsed": false
   },
   "outputs": [
    {
     "data": {
      "text/html": [
       "<script src=\"http://localhost:4000/djatashape/bower_components/pegjs/peg-0.9.0.min.js\"></script><script src=\"http://localhost:4000/djatashape/bower_components/codemirror/lib/codemirror.js\"></script><script src=\"http://localhost:4000/djatashape/bower_components/d3/d3.min.js\"></script><script src=\"http://localhost:4000/djatashape/bower_components/codemirror/addon/fold/foldcode.js\"></script><script src=\"http://localhost:4000/djatashape/bower_components/codemirror/addon/fold/foldgutter.js\"></script>"
      ],
      "text/plain": [
       "<IPython.core.display.HTML object>"
      ]
     },
     "execution_count": 9,
     "metadata": {},
     "output_type": "execute_result"
    }
   ],
   "source": [
    "head = IPython.display.HTML(render(\"\"\"{% for src in js_files %}<script src=\"http://localhost:4000/djatashape{{src}}\"></script>{% endfor %}\"\"\"))\n",
    "head"
   ]
  },
  {
   "cell_type": "code",
   "execution_count": 10,
   "metadata": {
    "collapsed": false
   },
   "outputs": [],
   "source": [
    "with open('djatashape.peg.js', 'r') as f:\n",
    "    parser = f.read()\n",
    "init_parser = IPython.display.Javascript(coffee.compile(render(\"\"\"\n",
    "window.parser = (PEG.buildParser \\\"\\\"\\\"{{parser}}\\\"\\\"\\\").parse\n",
    "\"\"\"),bare=True))"
   ]
  },
  {
   "cell_type": "code",
   "execution_count": 11,
   "metadata": {
    "collapsed": false
   },
   "outputs": [
    {
     "data": {
      "text/html": [
       "    <div id=\"editor\"></div>\n",
       "    <div id=\"preview\"></div>"
      ],
      "text/plain": [
       "<IPython.core.display.HTML object>"
      ]
     },
     "metadata": {},
     "output_type": "display_data"
    }
   ],
   "source": [
    "%%html\n",
    "    <div id=\"editor\"></div>\n",
    "    <div id=\"preview\"></div>\n"
   ]
  },
  {
   "cell_type": "code",
   "execution_count": 12,
   "metadata": {
    "collapsed": false
   },
   "outputs": [],
   "source": [
    "editor = IPython.display.Javascript(coffee.compile(\"\"\"\n",
    "window.cm = CodeMirror d3.select('#editor').node(),\n",
    "    theme: \"blackboard\"\n",
    "    lineNumbers: true\n",
    "    lineWrapping: true\n",
    "    readOnly: false\n",
    "    gutters: [\"CodeMirror-linenumbers\", \"CodeMirror-foldgutter\"]\n",
    "preview = d3.select '#preview'\n",
    "    .selectAll 'pre > code'\n",
    "    .data [0]\n",
    "    .enter().append('pre').append 'code'\n",
    "cm.on 'change', ()=>\n",
    "    preview.text JSON.stringify parser(cm.getValue()), null, 2\n",
    "    \n",
    "cm.setValue \\\"\\\"\\\"\n",
    "10 * 2 * {\n",
    "  day: datetime,\n",
    "  first_name: ?string,\n",
    "  last_name: string,\n",
    "  info: {\n",
    "      filename: string,\n",
    "      market: 2 * categorical[values=['fish','trampoline','hot air balloons']]\n",
    "  }\n",
    "}\n",
    "\\\"\\\"\\\"\n",
    "\"\"\"))"
   ]
  },
  {
   "cell_type": "code",
   "execution_count": 13,
   "metadata": {
    "collapsed": false
   },
   "outputs": [],
   "source": [
    "index = env.from_string(\"\"\"---\n",
    "---\n",
    "<!doctype html>\n",
    "<head>\n",
    "    #{head.data.replace('http://localhost:4000/djatashape','{{site.baseurl}}')}\n",
    "    {% for src in css_files %}<link rel=\"stylesheet\" type=\"text/css\" href=\"{{site.baseurl}}#{src}\"/>{% endfor %}\n",
    "</head>\n",
    "<body>\n",
    "    <script>#{init_parser.data}</script>\n",
    "    <div class=\"container\">\n",
    "        <h1>DataShape in the Browser</h1>\n",
    "        <p>Type a DataShape Grammar into the editor and it's Javascript serialization is returned below.</p>\n",
    "        <hr>\n",
    "        <div class=\"row\"  id=\"editor\"></div>\n",
    "        <hr>\n",
    "        <div class=\"row\" id=\"preview\"></div>\n",
    "    </div>\n",
    "</body>\n",
    "<script>#{editor.data}</script>\n",
    "\"\"\").render(**globals())\n",
    "with open('index.html','w') as f:\n",
    "    f.write(index)"
   ]
  },
  {
   "cell_type": "code",
   "execution_count": null,
   "metadata": {
    "collapsed": true
   },
   "outputs": [],
   "source": []
  }
 ],
 "metadata": {
  "kernelspec": {
   "display_name": "Python 3",
   "language": "python",
   "name": "python3"
  },
  "language_info": {
   "codemirror_mode": {
    "name": "ipython",
    "version": 3
   },
   "file_extension": ".py",
   "mimetype": "text/x-python",
   "name": "python",
   "nbconvert_exporter": "python",
   "pygments_lexer": "ipython3",
   "version": "3.4.4"
  }
 },
 "nbformat": 4,
 "nbformat_minor": 0
}
